{
  "nbformat": 4,
  "nbformat_minor": 0,
  "metadata": {
    "colab": {
      "name": "DeepLearning.ipynb",
      "version": "0.3.2",
      "provenance": [],
      "collapsed_sections": []
    },
    "kernelspec": {
      "name": "python3",
      "display_name": "Python 3"
    }
  },
  "cells": [
    {
      "metadata": {
        "id": "LzywCjD4_54Q",
        "colab_type": "code",
        "colab": {}
      },
      "cell_type": "code",
      "source": [
        "import numpy as np\n",
        "import pandas as pd\n",
        "import matplotlib.pyplot as plt"
      ],
      "execution_count": 0,
      "outputs": []
    },
    {
      "metadata": {
        "id": "wmnIhnrdITKs",
        "colab_type": "code",
        "colab": {
          "base_uri": "https://localhost:8080/",
          "height": 224
        },
        "outputId": "c1678945-f1f7-423b-a305-d32f032e08fd"
      },
      "cell_type": "code",
      "source": [
        "dataset = pd.read_csv('Churn_Modelling.csv')\n",
        "dataset.head()"
      ],
      "execution_count": 22,
      "outputs": [
        {
          "output_type": "execute_result",
          "data": {
            "text/html": [
              "<div>\n",
              "<style scoped>\n",
              "    .dataframe tbody tr th:only-of-type {\n",
              "        vertical-align: middle;\n",
              "    }\n",
              "\n",
              "    .dataframe tbody tr th {\n",
              "        vertical-align: top;\n",
              "    }\n",
              "\n",
              "    .dataframe thead th {\n",
              "        text-align: right;\n",
              "    }\n",
              "</style>\n",
              "<table border=\"1\" class=\"dataframe\">\n",
              "  <thead>\n",
              "    <tr style=\"text-align: right;\">\n",
              "      <th></th>\n",
              "      <th>RowNumber</th>\n",
              "      <th>CustomerId</th>\n",
              "      <th>Surname</th>\n",
              "      <th>CreditScore</th>\n",
              "      <th>Geography</th>\n",
              "      <th>Gender</th>\n",
              "      <th>Age</th>\n",
              "      <th>Tenure</th>\n",
              "      <th>Balance</th>\n",
              "      <th>NumOfProducts</th>\n",
              "      <th>HasCrCard</th>\n",
              "      <th>IsActiveMember</th>\n",
              "      <th>EstimatedSalary</th>\n",
              "      <th>Exited</th>\n",
              "    </tr>\n",
              "  </thead>\n",
              "  <tbody>\n",
              "    <tr>\n",
              "      <th>0</th>\n",
              "      <td>1</td>\n",
              "      <td>15634602</td>\n",
              "      <td>Hargrave</td>\n",
              "      <td>619</td>\n",
              "      <td>France</td>\n",
              "      <td>Female</td>\n",
              "      <td>42</td>\n",
              "      <td>2</td>\n",
              "      <td>0.00</td>\n",
              "      <td>1</td>\n",
              "      <td>1</td>\n",
              "      <td>1</td>\n",
              "      <td>101348.88</td>\n",
              "      <td>1</td>\n",
              "    </tr>\n",
              "    <tr>\n",
              "      <th>1</th>\n",
              "      <td>2</td>\n",
              "      <td>15647311</td>\n",
              "      <td>Hill</td>\n",
              "      <td>608</td>\n",
              "      <td>Spain</td>\n",
              "      <td>Female</td>\n",
              "      <td>41</td>\n",
              "      <td>1</td>\n",
              "      <td>83807.86</td>\n",
              "      <td>1</td>\n",
              "      <td>0</td>\n",
              "      <td>1</td>\n",
              "      <td>112542.58</td>\n",
              "      <td>0</td>\n",
              "    </tr>\n",
              "    <tr>\n",
              "      <th>2</th>\n",
              "      <td>3</td>\n",
              "      <td>15619304</td>\n",
              "      <td>Onio</td>\n",
              "      <td>502</td>\n",
              "      <td>France</td>\n",
              "      <td>Female</td>\n",
              "      <td>42</td>\n",
              "      <td>8</td>\n",
              "      <td>159660.80</td>\n",
              "      <td>3</td>\n",
              "      <td>1</td>\n",
              "      <td>0</td>\n",
              "      <td>113931.57</td>\n",
              "      <td>1</td>\n",
              "    </tr>\n",
              "    <tr>\n",
              "      <th>3</th>\n",
              "      <td>4</td>\n",
              "      <td>15701354</td>\n",
              "      <td>Boni</td>\n",
              "      <td>699</td>\n",
              "      <td>France</td>\n",
              "      <td>Female</td>\n",
              "      <td>39</td>\n",
              "      <td>1</td>\n",
              "      <td>0.00</td>\n",
              "      <td>2</td>\n",
              "      <td>0</td>\n",
              "      <td>0</td>\n",
              "      <td>93826.63</td>\n",
              "      <td>0</td>\n",
              "    </tr>\n",
              "    <tr>\n",
              "      <th>4</th>\n",
              "      <td>5</td>\n",
              "      <td>15737888</td>\n",
              "      <td>Mitchell</td>\n",
              "      <td>850</td>\n",
              "      <td>Spain</td>\n",
              "      <td>Female</td>\n",
              "      <td>43</td>\n",
              "      <td>2</td>\n",
              "      <td>125510.82</td>\n",
              "      <td>1</td>\n",
              "      <td>1</td>\n",
              "      <td>1</td>\n",
              "      <td>79084.10</td>\n",
              "      <td>0</td>\n",
              "    </tr>\n",
              "  </tbody>\n",
              "</table>\n",
              "</div>"
            ],
            "text/plain": [
              "   RowNumber  CustomerId   Surname  CreditScore Geography  Gender  Age  \\\n",
              "0          1    15634602  Hargrave          619    France  Female   42   \n",
              "1          2    15647311      Hill          608     Spain  Female   41   \n",
              "2          3    15619304      Onio          502    France  Female   42   \n",
              "3          4    15701354      Boni          699    France  Female   39   \n",
              "4          5    15737888  Mitchell          850     Spain  Female   43   \n",
              "\n",
              "   Tenure    Balance  NumOfProducts  HasCrCard  IsActiveMember  \\\n",
              "0       2       0.00              1          1               1   \n",
              "1       1   83807.86              1          0               1   \n",
              "2       8  159660.80              3          1               0   \n",
              "3       1       0.00              2          0               0   \n",
              "4       2  125510.82              1          1               1   \n",
              "\n",
              "   EstimatedSalary  Exited  \n",
              "0        101348.88       1  \n",
              "1        112542.58       0  \n",
              "2        113931.57       1  \n",
              "3         93826.63       0  \n",
              "4         79084.10       0  "
            ]
          },
          "metadata": {
            "tags": []
          },
          "execution_count": 22
        }
      ]
    },
    {
      "metadata": {
        "id": "nPoI-GXHIYRq",
        "colab_type": "code",
        "colab": {}
      },
      "cell_type": "code",
      "source": [
        "X = dataset.iloc[:, 3: 13].values\n",
        "y = dataset.iloc[:, 13].values"
      ],
      "execution_count": 0,
      "outputs": []
    },
    {
      "metadata": {
        "id": "B-P6bn9qI6M9",
        "colab_type": "code",
        "colab": {
          "base_uri": "https://localhost:8080/",
          "height": 151
        },
        "outputId": "586531f7-0594-486a-b796-eb67b603d42b"
      },
      "cell_type": "code",
      "source": [
        "from sklearn.preprocessing import LabelEncoder, OneHotEncoder\n",
        "gender_enc = LabelEncoder()\n",
        "country_enc = LabelEncoder()\n",
        "oneHot_enc = OneHotEncoder(categorical_features=[1])\n",
        "\n",
        "X[:, 2] = gender_enc.fit_transform(X[:, 2])\n",
        "X[:, 1]  = country_enc.fit_transform(X[:, 1])\n",
        "X = oneHot_enc.fit_transform(X).toarray()\n",
        "X = X[:, 1:]"
      ],
      "execution_count": 24,
      "outputs": [
        {
          "output_type": "stream",
          "text": [
            "/usr/local/lib/python3.6/dist-packages/sklearn/preprocessing/_encoders.py:371: FutureWarning: The handling of integer data will change in version 0.22. Currently, the categories are determined based on the range [0, max(values)], while in the future they will be determined based on the unique values.\n",
            "If you want the future behaviour and silence this warning, you can specify \"categories='auto'\".\n",
            "In case you used a LabelEncoder before this OneHotEncoder to convert the categories to integers, then you can now use the OneHotEncoder directly.\n",
            "  warnings.warn(msg, FutureWarning)\n",
            "/usr/local/lib/python3.6/dist-packages/sklearn/preprocessing/_encoders.py:392: DeprecationWarning: The 'categorical_features' keyword is deprecated in version 0.20 and will be removed in 0.22. You can use the ColumnTransformer instead.\n",
            "  \"use the ColumnTransformer instead.\", DeprecationWarning)\n"
          ],
          "name": "stderr"
        }
      ]
    },
    {
      "metadata": {
        "id": "k6e4xxQ0Isb9",
        "colab_type": "code",
        "colab": {}
      },
      "cell_type": "code",
      "source": [
        "from sklearn.model_selection import train_test_split\n",
        "X_train, X_test, Y_train, Y_test = train_test_split(X, y, test_size=0.2, random_state=0)"
      ],
      "execution_count": 0,
      "outputs": []
    },
    {
      "metadata": {
        "id": "w2EeSJVOJMLO",
        "colab_type": "code",
        "colab": {}
      },
      "cell_type": "code",
      "source": [
        "from sklearn.preprocessing import StandardScaler\n",
        "x_scaler = StandardScaler()\n",
        "X_train = x_scaler.fit_transform(X_train)\n",
        "X_test = x_scaler.transform(X_test)"
      ],
      "execution_count": 0,
      "outputs": []
    },
    {
      "metadata": {
        "id": "PJuZS1wmKI0Q",
        "colab_type": "code",
        "colab": {}
      },
      "cell_type": "code",
      "source": [
        "import keras\n",
        "from keras.models import Sequential\n",
        "from keras.layers import Dense"
      ],
      "execution_count": 0,
      "outputs": []
    },
    {
      "metadata": {
        "id": "mxCqRc_eKKtv",
        "colab_type": "code",
        "colab": {}
      },
      "cell_type": "code",
      "source": [
        "classifier = Sequential()\n",
        "classifier.add(Dense(input_dim=11, units=6, activation='relu', kernel_initializer='uniform'))"
      ],
      "execution_count": 0,
      "outputs": []
    },
    {
      "metadata": {
        "id": "wxyO4x0ZK6ot",
        "colab_type": "code",
        "colab": {}
      },
      "cell_type": "code",
      "source": [
        "classifier.add(Dense(units=6, activation='relu', kernel_initializer='uniform'))"
      ],
      "execution_count": 0,
      "outputs": []
    },
    {
      "metadata": {
        "id": "H1mcWUZgK-de",
        "colab_type": "code",
        "colab": {}
      },
      "cell_type": "code",
      "source": [
        "classifier.add(Dense(units=1, activation='sigmoid', kernel_initializer='uniform'))"
      ],
      "execution_count": 0,
      "outputs": []
    },
    {
      "metadata": {
        "id": "OEa6-EHSLD9R",
        "colab_type": "code",
        "colab": {}
      },
      "cell_type": "code",
      "source": [
        "classifier.compile(optimizer='adam', loss='binary_crossentropy', metrics=['accuracy'])"
      ],
      "execution_count": 0,
      "outputs": []
    },
    {
      "metadata": {
        "id": "fwyh-D_-LP1m",
        "colab_type": "code",
        "colab": {
          "base_uri": "https://localhost:8080/",
          "height": 3836
        },
        "outputId": "34d5c461-eb37-467a-8d44-0ed61d748bc5"
      },
      "cell_type": "code",
      "source": [
        "classifier.fit(X_train, Y_train, batch_size=10, epochs=100)"
      ],
      "execution_count": 32,
      "outputs": [
        {
          "output_type": "stream",
          "text": [
            "Epoch 1/100\n",
            "8000/8000 [==============================] - 1s 128us/step - loss: 0.4798 - acc: 0.7960\n",
            "Epoch 2/100\n",
            "8000/8000 [==============================] - 1s 105us/step - loss: 0.4297 - acc: 0.7960\n",
            "Epoch 3/100\n",
            "8000/8000 [==============================] - 1s 99us/step - loss: 0.4250 - acc: 0.7960\n",
            "Epoch 4/100\n",
            "8000/8000 [==============================] - 1s 93us/step - loss: 0.4196 - acc: 0.8171\n",
            "Epoch 5/100\n",
            "8000/8000 [==============================] - 1s 92us/step - loss: 0.4178 - acc: 0.8261\n",
            "Epoch 6/100\n",
            "8000/8000 [==============================] - 1s 93us/step - loss: 0.4151 - acc: 0.8302\n",
            "Epoch 7/100\n",
            "8000/8000 [==============================] - 1s 93us/step - loss: 0.4134 - acc: 0.8309\n",
            "Epoch 8/100\n",
            "8000/8000 [==============================] - 1s 93us/step - loss: 0.4119 - acc: 0.8301\n",
            "Epoch 9/100\n",
            "8000/8000 [==============================] - 1s 93us/step - loss: 0.4111 - acc: 0.8336\n",
            "Epoch 10/100\n",
            "8000/8000 [==============================] - 1s 93us/step - loss: 0.4106 - acc: 0.8334\n",
            "Epoch 11/100\n",
            "8000/8000 [==============================] - 1s 93us/step - loss: 0.4089 - acc: 0.8345\n",
            "Epoch 12/100\n",
            "8000/8000 [==============================] - 1s 93us/step - loss: 0.4084 - acc: 0.8337\n",
            "Epoch 13/100\n",
            "8000/8000 [==============================] - 1s 93us/step - loss: 0.4078 - acc: 0.8349\n",
            "Epoch 14/100\n",
            "8000/8000 [==============================] - 1s 95us/step - loss: 0.4071 - acc: 0.8332\n",
            "Epoch 15/100\n",
            "8000/8000 [==============================] - 1s 94us/step - loss: 0.4067 - acc: 0.8346\n",
            "Epoch 16/100\n",
            "8000/8000 [==============================] - 1s 94us/step - loss: 0.4065 - acc: 0.8357\n",
            "Epoch 17/100\n",
            "8000/8000 [==============================] - 1s 92us/step - loss: 0.4059 - acc: 0.8326\n",
            "Epoch 18/100\n",
            "8000/8000 [==============================] - 1s 92us/step - loss: 0.4049 - acc: 0.8336\n",
            "Epoch 19/100\n",
            "8000/8000 [==============================] - 1s 93us/step - loss: 0.4050 - acc: 0.8360\n",
            "Epoch 20/100\n",
            "8000/8000 [==============================] - 1s 93us/step - loss: 0.4049 - acc: 0.8346\n",
            "Epoch 21/100\n",
            "8000/8000 [==============================] - 1s 94us/step - loss: 0.4039 - acc: 0.8350\n",
            "Epoch 22/100\n",
            "8000/8000 [==============================] - 1s 94us/step - loss: 0.4045 - acc: 0.8341\n",
            "Epoch 23/100\n",
            "8000/8000 [==============================] - 1s 94us/step - loss: 0.4040 - acc: 0.8345\n",
            "Epoch 24/100\n",
            "8000/8000 [==============================] - 1s 93us/step - loss: 0.4039 - acc: 0.8349\n",
            "Epoch 25/100\n",
            "8000/8000 [==============================] - 1s 93us/step - loss: 0.4039 - acc: 0.8352\n",
            "Epoch 26/100\n",
            "8000/8000 [==============================] - 1s 93us/step - loss: 0.4032 - acc: 0.8346\n",
            "Epoch 27/100\n",
            "8000/8000 [==============================] - 1s 92us/step - loss: 0.4038 - acc: 0.8345\n",
            "Epoch 28/100\n",
            "8000/8000 [==============================] - 1s 94us/step - loss: 0.4032 - acc: 0.8341\n",
            "Epoch 29/100\n",
            "8000/8000 [==============================] - 1s 97us/step - loss: 0.4024 - acc: 0.8342\n",
            "Epoch 30/100\n",
            "8000/8000 [==============================] - 1s 93us/step - loss: 0.4028 - acc: 0.8346\n",
            "Epoch 31/100\n",
            "8000/8000 [==============================] - 1s 94us/step - loss: 0.4033 - acc: 0.8349\n",
            "Epoch 32/100\n",
            "8000/8000 [==============================] - 1s 93us/step - loss: 0.4023 - acc: 0.8352\n",
            "Epoch 33/100\n",
            "8000/8000 [==============================] - 1s 93us/step - loss: 0.4022 - acc: 0.8341\n",
            "Epoch 34/100\n",
            "8000/8000 [==============================] - 1s 94us/step - loss: 0.4027 - acc: 0.8342\n",
            "Epoch 35/100\n",
            "8000/8000 [==============================] - 1s 94us/step - loss: 0.4025 - acc: 0.8367\n",
            "Epoch 36/100\n",
            "8000/8000 [==============================] - 1s 92us/step - loss: 0.4024 - acc: 0.8352\n",
            "Epoch 37/100\n",
            "8000/8000 [==============================] - 1s 93us/step - loss: 0.4022 - acc: 0.8349\n",
            "Epoch 38/100\n",
            "8000/8000 [==============================] - 1s 93us/step - loss: 0.4021 - acc: 0.8364\n",
            "Epoch 39/100\n",
            "8000/8000 [==============================] - 1s 92us/step - loss: 0.4022 - acc: 0.8345\n",
            "Epoch 40/100\n",
            "8000/8000 [==============================] - 1s 92us/step - loss: 0.4018 - acc: 0.8350\n",
            "Epoch 41/100\n",
            "8000/8000 [==============================] - 1s 94us/step - loss: 0.4016 - acc: 0.8345\n",
            "Epoch 42/100\n",
            "8000/8000 [==============================] - 1s 94us/step - loss: 0.4019 - acc: 0.8346\n",
            "Epoch 43/100\n",
            "8000/8000 [==============================] - 1s 93us/step - loss: 0.4015 - acc: 0.8359\n",
            "Epoch 44/100\n",
            "8000/8000 [==============================] - 1s 94us/step - loss: 0.4009 - acc: 0.8340\n",
            "Epoch 45/100\n",
            "8000/8000 [==============================] - 1s 92us/step - loss: 0.4016 - acc: 0.8341\n",
            "Epoch 46/100\n",
            "8000/8000 [==============================] - 1s 93us/step - loss: 0.4012 - acc: 0.8346\n",
            "Epoch 47/100\n",
            "8000/8000 [==============================] - 1s 93us/step - loss: 0.4013 - acc: 0.8339\n",
            "Epoch 48/100\n",
            "8000/8000 [==============================] - 1s 93us/step - loss: 0.4013 - acc: 0.8367\n",
            "Epoch 49/100\n",
            "8000/8000 [==============================] - 1s 92us/step - loss: 0.4011 - acc: 0.8335\n",
            "Epoch 50/100\n",
            "8000/8000 [==============================] - 1s 94us/step - loss: 0.4011 - acc: 0.8354\n",
            "Epoch 51/100\n",
            "8000/8000 [==============================] - 1s 94us/step - loss: 0.4012 - acc: 0.8360\n",
            "Epoch 52/100\n",
            "8000/8000 [==============================] - 1s 94us/step - loss: 0.4007 - acc: 0.8346\n",
            "Epoch 53/100\n",
            "8000/8000 [==============================] - 1s 94us/step - loss: 0.4008 - acc: 0.8341\n",
            "Epoch 54/100\n",
            "8000/8000 [==============================] - 1s 94us/step - loss: 0.4013 - acc: 0.8335\n",
            "Epoch 55/100\n",
            "8000/8000 [==============================] - 1s 94us/step - loss: 0.4006 - acc: 0.8344\n",
            "Epoch 56/100\n",
            "8000/8000 [==============================] - 1s 93us/step - loss: 0.4008 - acc: 0.8355\n",
            "Epoch 57/100\n",
            "8000/8000 [==============================] - 1s 94us/step - loss: 0.4008 - acc: 0.8362\n",
            "Epoch 58/100\n",
            "8000/8000 [==============================] - 1s 94us/step - loss: 0.4010 - acc: 0.8336\n",
            "Epoch 59/100\n",
            "8000/8000 [==============================] - 1s 95us/step - loss: 0.4005 - acc: 0.8350\n",
            "Epoch 60/100\n",
            "8000/8000 [==============================] - 1s 96us/step - loss: 0.4009 - acc: 0.8347\n",
            "Epoch 61/100\n",
            "8000/8000 [==============================] - 1s 94us/step - loss: 0.4010 - acc: 0.8344\n",
            "Epoch 62/100\n",
            "8000/8000 [==============================] - 1s 93us/step - loss: 0.4012 - acc: 0.8344\n",
            "Epoch 63/100\n",
            "8000/8000 [==============================] - 1s 93us/step - loss: 0.4005 - acc: 0.8344\n",
            "Epoch 64/100\n",
            "8000/8000 [==============================] - 1s 93us/step - loss: 0.4010 - acc: 0.8351\n",
            "Epoch 65/100\n",
            "8000/8000 [==============================] - 1s 93us/step - loss: 0.4003 - acc: 0.8362\n",
            "Epoch 66/100\n",
            "8000/8000 [==============================] - 1s 94us/step - loss: 0.4004 - acc: 0.8349\n",
            "Epoch 67/100\n",
            "8000/8000 [==============================] - 1s 95us/step - loss: 0.4007 - acc: 0.8341\n",
            "Epoch 68/100\n",
            "8000/8000 [==============================] - 1s 93us/step - loss: 0.4013 - acc: 0.8347\n",
            "Epoch 69/100\n",
            "8000/8000 [==============================] - 1s 94us/step - loss: 0.4007 - acc: 0.8360\n",
            "Epoch 70/100\n",
            "8000/8000 [==============================] - 1s 94us/step - loss: 0.4009 - acc: 0.8350\n",
            "Epoch 71/100\n",
            "8000/8000 [==============================] - 1s 93us/step - loss: 0.4005 - acc: 0.8366\n",
            "Epoch 72/100\n",
            "8000/8000 [==============================] - 1s 93us/step - loss: 0.4009 - acc: 0.8344\n",
            "Epoch 73/100\n",
            "8000/8000 [==============================] - 1s 94us/step - loss: 0.4005 - acc: 0.8357\n",
            "Epoch 74/100\n",
            "8000/8000 [==============================] - 1s 94us/step - loss: 0.4010 - acc: 0.8346\n",
            "Epoch 75/100\n",
            "8000/8000 [==============================] - 1s 94us/step - loss: 0.4001 - acc: 0.8349\n",
            "Epoch 76/100\n",
            "8000/8000 [==============================] - 1s 94us/step - loss: 0.4004 - acc: 0.8356\n",
            "Epoch 77/100\n",
            "8000/8000 [==============================] - 1s 92us/step - loss: 0.4004 - acc: 0.8345\n",
            "Epoch 78/100\n",
            "8000/8000 [==============================] - 1s 93us/step - loss: 0.4005 - acc: 0.8347\n",
            "Epoch 79/100\n",
            "8000/8000 [==============================] - 1s 92us/step - loss: 0.4007 - acc: 0.8354\n",
            "Epoch 80/100\n",
            "8000/8000 [==============================] - 1s 93us/step - loss: 0.4004 - acc: 0.8346\n",
            "Epoch 81/100\n",
            "8000/8000 [==============================] - 1s 93us/step - loss: 0.4005 - acc: 0.8341\n",
            "Epoch 82/100\n",
            "8000/8000 [==============================] - 1s 99us/step - loss: 0.4007 - acc: 0.8340\n",
            "Epoch 83/100\n",
            "8000/8000 [==============================] - 1s 102us/step - loss: 0.4004 - acc: 0.8357\n",
            "Epoch 84/100\n",
            "8000/8000 [==============================] - 1s 101us/step - loss: 0.4001 - acc: 0.8346\n",
            "Epoch 85/100\n",
            "8000/8000 [==============================] - 1s 103us/step - loss: 0.4004 - acc: 0.8342\n",
            "Epoch 86/100\n",
            "8000/8000 [==============================] - 1s 104us/step - loss: 0.3999 - acc: 0.8351\n",
            "Epoch 87/100\n",
            "8000/8000 [==============================] - 1s 103us/step - loss: 0.4000 - acc: 0.8342\n",
            "Epoch 88/100\n",
            "8000/8000 [==============================] - 1s 103us/step - loss: 0.4009 - acc: 0.8349\n",
            "Epoch 89/100\n",
            "8000/8000 [==============================] - 1s 101us/step - loss: 0.4000 - acc: 0.8356\n",
            "Epoch 90/100\n",
            "8000/8000 [==============================] - 1s 101us/step - loss: 0.4000 - acc: 0.8356\n",
            "Epoch 91/100\n",
            "8000/8000 [==============================] - 1s 102us/step - loss: 0.4004 - acc: 0.8337\n",
            "Epoch 92/100\n",
            "8000/8000 [==============================] - 1s 104us/step - loss: 0.4004 - acc: 0.8346\n",
            "Epoch 93/100\n",
            "8000/8000 [==============================] - 1s 104us/step - loss: 0.4003 - acc: 0.8345\n",
            "Epoch 94/100\n",
            "8000/8000 [==============================] - 1s 100us/step - loss: 0.4002 - acc: 0.8350\n",
            "Epoch 95/100\n",
            "8000/8000 [==============================] - 1s 95us/step - loss: 0.3997 - acc: 0.8352\n",
            "Epoch 96/100\n",
            "8000/8000 [==============================] - 1s 93us/step - loss: 0.3999 - acc: 0.8349\n",
            "Epoch 97/100\n",
            "8000/8000 [==============================] - 1s 93us/step - loss: 0.4004 - acc: 0.8352\n",
            "Epoch 98/100\n",
            "8000/8000 [==============================] - 1s 93us/step - loss: 0.4002 - acc: 0.8340\n",
            "Epoch 99/100\n",
            "8000/8000 [==============================] - 1s 93us/step - loss: 0.4003 - acc: 0.8360\n",
            "Epoch 100/100\n",
            "8000/8000 [==============================] - 1s 93us/step - loss: 0.4003 - acc: 0.8342\n"
          ],
          "name": "stdout"
        },
        {
          "output_type": "execute_result",
          "data": {
            "text/plain": [
              "<keras.callbacks.History at 0x7f180a45ce80>"
            ]
          },
          "metadata": {
            "tags": []
          },
          "execution_count": 32
        }
      ]
    },
    {
      "metadata": {
        "id": "rQL9955KLXHG",
        "colab_type": "code",
        "colab": {
          "base_uri": "https://localhost:8080/",
          "height": 150
        },
        "outputId": "ceb597f1-c269-4606-dd1b-ed42a5474dce"
      },
      "cell_type": "code",
      "source": [
        "y_pred = classifier.predict(X_test)\n",
        "y_pred = (y_pred > 0.5)\n",
        "y_pred"
      ],
      "execution_count": 33,
      "outputs": [
        {
          "output_type": "execute_result",
          "data": {
            "text/plain": [
              "array([[False],\n",
              "       [False],\n",
              "       [False],\n",
              "       ...,\n",
              "       [False],\n",
              "       [False],\n",
              "       [False]])"
            ]
          },
          "metadata": {
            "tags": []
          },
          "execution_count": 33
        }
      ]
    },
    {
      "metadata": {
        "id": "Cx1qGYD_Lx9I",
        "colab_type": "code",
        "colab": {
          "base_uri": "https://localhost:8080/",
          "height": 55
        },
        "outputId": "f405fd5b-4270-4922-e006-217c108cdf24"
      },
      "cell_type": "code",
      "source": [
        "from sklearn.metrics import confusion_matrix\n",
        "cm = confusion_matrix(Y_test, y_pred)\n",
        "cm"
      ],
      "execution_count": 34,
      "outputs": [
        {
          "output_type": "execute_result",
          "data": {
            "text/plain": [
              "array([[1537,   58],\n",
              "       [ 263,  142]])"
            ]
          },
          "metadata": {
            "tags": []
          },
          "execution_count": 34
        }
      ]
    },
    {
      "metadata": {
        "id": "lv8OpurZMEme",
        "colab_type": "code",
        "colab": {}
      },
      "cell_type": "code",
      "source": [
        ""
      ],
      "execution_count": 0,
      "outputs": []
    }
  ]
}